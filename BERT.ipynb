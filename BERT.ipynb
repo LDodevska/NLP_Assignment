{
 "cells": [
  {
   "cell_type": "code",
   "execution_count": 1,
   "metadata": {},
   "outputs": [],
   "source": [
    "import pandas as pd\n",
    "import json\n",
    "from sklearn import preprocessing\n",
    "from sklearn.model_selection import train_test_split\n",
    "import tensorflow as tf\n",
    "import numpy as np\n",
    "from sklearn.model_selection import train_test_split\n",
    "\n",
    "from transformers import (TFBertForSequenceClassification,\n",
    "                          BertTokenizer, TFBertForTokenClassification, BertConfig)\n",
    "from tqdm import tqdm\n",
    "import re\n",
    "from tensorflow.keras.preprocessing.sequence import pad_sequences"
   ]
  },
  {
   "cell_type": "code",
   "execution_count": 104,
   "metadata": {},
   "outputs": [],
   "source": [
    "MAX_LEN = 180"
   ]
  },
  {
   "cell_type": "code",
   "execution_count": 105,
   "metadata": {},
   "outputs": [],
   "source": [
    "tags = {'O':0, 'I-ORG':1, 'I-LOC':2, 'I-MISC':3, 'I-PER':4, 'B-MISC':5, 'B-LOC': 6, 'B-ORG':7, 'PAD':8}"
   ]
  },
  {
   "cell_type": "code",
   "execution_count": 106,
   "metadata": {},
   "outputs": [],
   "source": [
    "indices_to_tags = {0:'O', 1:'I-ORG', 2:'I-LOC', 3:'I-MISC', 4:'I-PER', 5:'B-MISC', 6:'B-LOC', 7:'B-ORG', 8:'PAD'}"
   ]
  },
  {
   "cell_type": "markdown",
   "metadata": {},
   "source": [
    "### Preprocessing of the CONLL-2003 dataset. This function is called only once at the beginning and then the dataset is saved to a json file."
   ]
  },
  {
   "cell_type": "code",
   "execution_count": 41,
   "metadata": {},
   "outputs": [],
   "source": [
    "def parse_dataset(file_name, save_file=False):\n",
    "    with open(file_name, \"r\") as file:\n",
    "        content = file.read()\n",
    "    find_sentences = re.compile(r'(.*?)(?:\\n{2})', re.MULTILINE | re.DOTALL)\n",
    "    sentences = find_sentences.findall(content)\n",
    "    parse_sentence = re.compile(r\"(\\S+)\\s(\\S+)\\s\\S+\\s(\\S+)\")\n",
    "    df = pd.DataFrame(columns=[\"sentence_idx\", \"sentences\", \"tags\"])\n",
    "    comb_sentences = []\n",
    "    all_tags = []\n",
    "    idxs = []\n",
    "    for i, s in enumerate(sentences):\n",
    "        tokens = parse_sentence.findall(s)\n",
    "        curr_sentence = []\n",
    "        curr_tags = []\n",
    "        for token in tokens:\n",
    "            word, pos, tag = token\n",
    "            curr_sentence.append(word)\n",
    "            curr_tags.append(tags[tag])\n",
    "        idxs.append(i)\n",
    "        comb_sentences.append(curr_sentence)\n",
    "        all_tags.append(curr_tags)\n",
    "    df[\"sentence_idx\"] = idxs\n",
    "    df[\"sentences\"] = comb_sentences\n",
    "    \n",
    "    df[\"tags\"] = all_tags\n",
    "    if save_file:\n",
    "        df.to_json(\"parsed_sl_{}.json\".format(file_name.split(\".\")[-1]), orient='records')\n",
    "    return df"
   ]
  },
  {
   "cell_type": "code",
   "execution_count": null,
   "metadata": {},
   "outputs": [],
   "source": [
    "df = parse_dataset(\"../eng.train\", True)\n",
    "df.head()\n",
    "# df = pd.read_csv(\"parsed_train.csv\")\n",
    "# df.tag.unique()"
   ]
  },
  {
   "cell_type": "code",
   "execution_count": 21,
   "metadata": {},
   "outputs": [],
   "source": [
    "def parse_ner_dataset(save_file=False):\n",
    "    ner_df = pd.read_csv(\"ner_first_preprocessing.csv\")\n",
    "    ner_df = ner_df[['sentence_idx', 'word', 'tag']]\n",
    "    \n",
    "    df_grouped = ner_df.groupby('sentence_idx')\n",
    "    \n",
    "    comb_sentences = []\n",
    "    final_tags = []\n",
    "    idxs = []\n",
    "    \n",
    "    for s_group in df_grouped:\n",
    "        sentence_group = s_group[1]\n",
    "        \n",
    "        s_idx = sentence_group['sentence_idx'].iloc[0]\n",
    "        words = sentence_group['word'].tolist()\n",
    "        tags = sentence_group['tag'].tolist()\n",
    "        \n",
    "        comb_sentences.append(words)\n",
    "        final_tags.append(tags)\n",
    "        idxs.append(s_idx)\n",
    "    \n",
    "    df = pd.DataFrame(columns=[\"sentence_idx\", \"sentences\", \"tags\"])\n",
    "    df[\"sentence_idx\"] = idxs\n",
    "    df[\"sentences\"] = comb_sentences\n",
    "    df[\"tags\"] = final_tags\n",
    "    \n",
    "    if save_file:\n",
    "        df.to_json(\"parsed_gmb_bert.json\", orient='records')\n",
    "    return df\n",
    "    \n",
    "    \n"
   ]
  },
  {
   "cell_type": "code",
   "execution_count": 24,
   "metadata": {},
   "outputs": [],
   "source": [
    "ner_df = parse_ner_dataset(True)"
   ]
  },
  {
   "cell_type": "code",
   "execution_count": 25,
   "metadata": {},
   "outputs": [
    {
     "data": {
      "text/html": [
       "<div>\n",
       "<style scoped>\n",
       "    .dataframe tbody tr th:only-of-type {\n",
       "        vertical-align: middle;\n",
       "    }\n",
       "\n",
       "    .dataframe tbody tr th {\n",
       "        vertical-align: top;\n",
       "    }\n",
       "\n",
       "    .dataframe thead th {\n",
       "        text-align: right;\n",
       "    }\n",
       "</style>\n",
       "<table border=\"1\" class=\"dataframe\">\n",
       "  <thead>\n",
       "    <tr style=\"text-align: right;\">\n",
       "      <th></th>\n",
       "      <th>sentence_idx</th>\n",
       "      <th>sentences</th>\n",
       "      <th>tags</th>\n",
       "    </tr>\n",
       "  </thead>\n",
       "  <tbody>\n",
       "    <tr>\n",
       "      <th>0</th>\n",
       "      <td>1.0</td>\n",
       "      <td>[Thousands, of, demonstrators, have, marched, ...</td>\n",
       "      <td>[O, O, O, O, O, O, B-geo, O, O, O, O, O, B-geo...</td>\n",
       "    </tr>\n",
       "    <tr>\n",
       "      <th>1</th>\n",
       "      <td>2.0</td>\n",
       "      <td>[Families, of, soldiers, killed, in, the, conf...</td>\n",
       "      <td>[O, O, O, O, O, O, O, O, O, O, O, O, O, O, O, ...</td>\n",
       "    </tr>\n",
       "    <tr>\n",
       "      <th>2</th>\n",
       "      <td>3.0</td>\n",
       "      <td>[They, marched, from, the, Houses, of, Parliam...</td>\n",
       "      <td>[O, O, O, O, O, O, O, O, O, O, O, B-geo, I-geo...</td>\n",
       "    </tr>\n",
       "    <tr>\n",
       "      <th>3</th>\n",
       "      <td>4.0</td>\n",
       "      <td>[Police, put, the, number, of, marchers, at, 1...</td>\n",
       "      <td>[O, O, O, O, O, O, O, O, O, O, O, O, O, O, O]</td>\n",
       "    </tr>\n",
       "    <tr>\n",
       "      <th>4</th>\n",
       "      <td>5.0</td>\n",
       "      <td>[The, protest, comes, on, the, eve, of, the, a...</td>\n",
       "      <td>[O, O, O, O, O, O, O, O, O, O, O, B-geo, O, O,...</td>\n",
       "    </tr>\n",
       "  </tbody>\n",
       "</table>\n",
       "</div>"
      ],
      "text/plain": [
       "   sentence_idx                                          sentences  \\\n",
       "0           1.0  [Thousands, of, demonstrators, have, marched, ...   \n",
       "1           2.0  [Families, of, soldiers, killed, in, the, conf...   \n",
       "2           3.0  [They, marched, from, the, Houses, of, Parliam...   \n",
       "3           4.0  [Police, put, the, number, of, marchers, at, 1...   \n",
       "4           5.0  [The, protest, comes, on, the, eve, of, the, a...   \n",
       "\n",
       "                                                tags  \n",
       "0  [O, O, O, O, O, O, B-geo, O, O, O, O, O, B-geo...  \n",
       "1  [O, O, O, O, O, O, O, O, O, O, O, O, O, O, O, ...  \n",
       "2  [O, O, O, O, O, O, O, O, O, O, O, B-geo, I-geo...  \n",
       "3      [O, O, O, O, O, O, O, O, O, O, O, O, O, O, O]  \n",
       "4  [O, O, O, O, O, O, O, O, O, O, O, B-geo, O, O,...  "
      ]
     },
     "execution_count": 25,
     "metadata": {},
     "output_type": "execute_result"
    }
   ],
   "source": [
    "ner_df.head(5)"
   ]
  },
  {
   "cell_type": "code",
   "execution_count": null,
   "metadata": {},
   "outputs": [],
   "source": [
    "pad_token = 0\n",
    "pad_token_segment_id = 0\n",
    "max_length = 180\n",
    "def convert_to_input(reviews):\n",
    "    input_ids, attention_masks, token_type_ids = [], [], []\n",
    "\n",
    "    for x in tqdm(reviews, position=0, leave=True):\n",
    "        inputs = bert_tokenizer.encode_plus(x, max_length=max_length)\n",
    "\n",
    "        i, t = inputs[\"input_ids\"], inputs[\"token_type_ids\"]\n",
    "        m = [1] * len(i)\n",
    "\n",
    "        padding_length = max_length - len(i)\n",
    "#         print(\"##########################X\", x)\n",
    "#         print(\"### I \", i)\n",
    "#         print(\"### M \", m)\n",
    "#         print(\"### T \", t)\n",
    "        i = i + ([pad_token] * padding_length)\n",
    "        m = m + ([0] * padding_length)\n",
    "        t = t + ([pad_token_segment_id] * padding_length)\n",
    "        \n",
    "        input_ids.append(i)\n",
    "        attention_masks.append(m)\n",
    "        token_type_ids.append(t)\n",
    "\n",
    "    return [np.asarray(input_ids),\n",
    "            np.asarray(attention_masks)]"
   ]
  },
  {
   "cell_type": "markdown",
   "metadata": {},
   "source": [
    "### Helper functions:"
   ]
  },
  {
   "cell_type": "code",
   "execution_count": 165,
   "metadata": {},
   "outputs": [],
   "source": [
    "def tokenize_and_preserve_labels(sentence, text_labels):\n",
    "    tokenized_sentence = []\n",
    "    labels = []\n",
    "\n",
    "    for word, label in zip(sentence, text_labels):\n",
    "\n",
    "        # Tokenize the word and count # of subwords the word is broken into\n",
    "        tokenized_word = bert_tokenizer.tokenize(word)\n",
    "        n_subwords = len(tokenized_word)\n",
    "\n",
    "        # Add the tokenized word to the final tokenized word list\n",
    "        tokenized_sentence.extend(tokenized_word)\n",
    "\n",
    "        # Add the corresponding tag to the first token of the word and \"PAD\" tag to the rest of the tokens\n",
    "        labels.append(label)\n",
    "        labels.extend([tags[\"O\"]] * (n_subwords - 1))\n",
    "#         labels.extend([label] * n_subwords)\n",
    "\n",
    "    return tokenized_sentence, labels\n"
   ]
  },
  {
   "cell_type": "code",
   "execution_count": 135,
   "metadata": {},
   "outputs": [],
   "source": [
    "def example_to_features(input_ids, attention_masks, y):\n",
    "    return {\"input_ids\": input_ids,\n",
    "            \"attention_mask\": attention_masks}, y\n",
    "\n",
    "def example_to_features_list(input_ids, attention_masks, y):\n",
    "    return [input_ids, attention_masks], y"
   ]
  },
  {
   "cell_type": "code",
   "execution_count": null,
   "metadata": {},
   "outputs": [],
   "source": [
    "def example_to_features_new(input_ids,attention_masks,token_type_ids,y):\n",
    "    return {\"input_ids\": input_ids,\n",
    "          \"attention_mask\": attention_masks,\n",
    "          \"token_type_ids\": token_type_ids},y\n"
   ]
  },
  {
   "cell_type": "code",
   "execution_count": 179,
   "metadata": {},
   "outputs": [],
   "source": [
    "def convert_predictions(y_pred, indices_to_tags):\n",
    "    conv_pred = []\n",
    "    for pred in y_pred:\n",
    "        conv_tmp = []\n",
    "        for val in pred:\n",
    "            val_arg_max = np.argmax(val)\n",
    "            conv_tmp.append(val_arg_max)\n",
    "        conv_pred.append(conv_tmp)\n",
    "    return np.array(conv_pred)"
   ]
  },
  {
   "cell_type": "markdown",
   "metadata": {},
   "source": [
    "### Load the pretrained Bert model and the Bert tokenizer."
   ]
  },
  {
   "cell_type": "code",
   "execution_count": 166,
   "metadata": {},
   "outputs": [],
   "source": [
    "config =BertConfig.from_pretrained(\"bert-base-cased\",num_labels=8)\n",
    "bert_model = TFBertForTokenClassification.from_pretrained(\"bert-base-cased\", config=config)\n",
    "bert_tokenizer = BertTokenizer.from_pretrained(\"bert-base-cased\", do_lower_case=False)"
   ]
  },
  {
   "cell_type": "code",
   "execution_count": 167,
   "metadata": {},
   "outputs": [],
   "source": [
    "bert_model.layers[-1].activation = tf.keras.activations.softmax"
   ]
  },
  {
   "cell_type": "markdown",
   "metadata": {},
   "source": [
    "### Read the train and test dataset from file"
   ]
  },
  {
   "cell_type": "code",
   "execution_count": 168,
   "metadata": {},
   "outputs": [],
   "source": [
    "with open(\"parsed_sl_testa.json\") as test, open(\"parsed_sl_train.json\") as train:\n",
    "    test_df = json.load(test)\n",
    "    data = json.load(train)"
   ]
  },
  {
   "cell_type": "markdown",
   "metadata": {},
   "source": [
    "### Split the train dataset into train and validation sets."
   ]
  },
  {
   "cell_type": "code",
   "execution_count": 173,
   "metadata": {},
   "outputs": [],
   "source": [
    "# train_inputs, val_inputs, train_tags, val_tags = train_test_split(train_ids, train_tags,\n",
    "#                                                             random_state=2018, test_size=0.1)\n",
    "# train_masks, val_masks, _, _ = train_test_split(attention_masks_train, train_ids,\n",
    "#                                              random_state=2018, test_size=0.1)\n",
    "\n",
    "\n",
    "data_train, data_val = train_test_split(data, random_state=2018, test_size=0.2)\n"
   ]
  },
  {
   "cell_type": "markdown",
   "metadata": {},
   "source": [
    "### Tokenize the three datasets, assign the appropriate labels to each token "
   ]
  },
  {
   "cell_type": "code",
   "execution_count": 169,
   "metadata": {},
   "outputs": [
    {
     "name": "stderr",
     "output_type": "stream",
     "text": [
      "100%|██████████| 14987/14987 [00:10<00:00, 1474.30it/s]\n"
     ]
    }
   ],
   "source": [
    "tokenized_texts_train = []\n",
    "tokenized_labels_train = []\n",
    "for sent_dict in tqdm(data, position=0, leave=True):\n",
    "    sen, lab = tokenize_and_preserve_labels(sent_dict['sentences'], sent_dict['tags'])\n",
    "    tokenized_texts_train.append(sen)\n",
    "    tokenized_labels_train.append(lab)"
   ]
  },
  {
   "cell_type": "code",
   "execution_count": 170,
   "metadata": {},
   "outputs": [
    {
     "name": "stderr",
     "output_type": "stream",
     "text": [
      "100%|██████████| 3466/3466 [00:02<00:00, 1281.38it/s]\n"
     ]
    }
   ],
   "source": [
    "tokenized_texts_test = []\n",
    "tokenized_labels_test = []\n",
    "for sent_dict in tqdm(test_df, position=0, leave=True):\n",
    "    sen, lab = tokenize_and_preserve_labels(sent_dict['sentences'], sent_dict['tags'])\n",
    "    tokenized_texts_test.append(sen)\n",
    "    tokenized_labels_test.append(lab)"
   ]
  },
  {
   "cell_type": "code",
   "execution_count": null,
   "metadata": {},
   "outputs": [],
   "source": [
    "tokenized_texts_val = []\n",
    "tokenized_labels_val = []\n",
    "for sent_dict in tqdm(data_val, position=0, leave=True):\n",
    "    sen, lab = tokenize_and_preserve_labels(sent_dict['sentences'], sent_dict['tags'])\n",
    "    tokenized_texts_val.append(sen)\n",
    "    tokenized_labels_val.append(lab)"
   ]
  },
  {
   "cell_type": "markdown",
   "metadata": {},
   "source": [
    "### Pad each sequence up to the previously defined MAX_LEN = 180. Create the lists with attention masks. Convert the datasets to tensorflow Dataset type."
   ]
  },
  {
   "cell_type": "code",
   "execution_count": 171,
   "metadata": {},
   "outputs": [],
   "source": [
    "train_ids = pad_sequences([bert_tokenizer.convert_tokens_to_ids(txt) for txt in tokenized_texts_train],\n",
    "                          maxlen=MAX_LEN, dtype=\"long\", value=0.0,\n",
    "                          truncating=\"post\", padding=\"post\")\n",
    "test_ids = pad_sequences([bert_tokenizer.convert_tokens_to_ids(txt) for txt in tokenized_texts_test],\n",
    "                          maxlen=MAX_LEN, dtype=\"long\", value=0.0,\n",
    "                          truncating=\"post\", padding=\"post\")\n",
    "val_ids = pad_sequences([bert_tokenizer.convert_tokens_to_ids(txt) for txt in tokenized_texts_val],\n",
    "                          maxlen=MAX_LEN, dtype=\"long\", value=0.0,\n",
    "                          truncating=\"post\", padding=\"post\")\n",
    "\n",
    "train_tags = pad_sequences([label for label in tokenized_labels_train],\n",
    "                          maxlen=MAX_LEN, dtype=\"long\", value=tags[\"PAD\"],\n",
    "                          truncating=\"post\", padding=\"post\")\n",
    "test_tags = pad_sequences([label for label in tokenized_labels_test],\n",
    "                          maxlen=MAX_LEN, dtype=\"long\", value=tags[\"PAD\"],\n",
    "                          truncating=\"post\", padding=\"post\")\n",
    "val_tags = pad_sequences([label for label in tokenized_labels_val],\n",
    "                          maxlen=MAX_LEN, dtype=\"long\", value=tags[\"PAD\"],\n",
    "                          truncating=\"post\", padding=\"post\")"
   ]
  },
  {
   "cell_type": "code",
   "execution_count": 172,
   "metadata": {},
   "outputs": [],
   "source": [
    "attention_masks_train = [[float(i > 0) for i in ii] for ii in train_ids]\n",
    "attention_masks_test = [[float(i > 0) for i in ii] for ii in test_ids]\n",
    "attention_masks_val = [[float(i > 0) for i in ii] for ii in val_ids]"
   ]
  },
  {
   "cell_type": "code",
   "execution_count": 174,
   "metadata": {},
   "outputs": [],
   "source": [
    "train_ds = tf.data.Dataset.from_tensor_slices((tf.constant(train_ids), tf.constant(attention_masks_train), tf.constant(train_tags))).map(\n",
    "        example_to_features).shuffle(100).batch(12).repeat(5)\n",
    "val_ds = tf.data.Dataset.from_tensor_slices((tf.constant(val_ids), tf.constant(attention_masks_val), tf.constant(val_tags))).map(\n",
    "        example_to_features).batch(12)\n",
    "test_ds = tf.data.Dataset.from_tensor_slices((tf.constant(test_ids), tf.constant(attention_masks_test), tf.constant(test_tags))).map(\n",
    "        example_to_features).batch(12)"
   ]
  },
  {
   "cell_type": "markdown",
   "metadata": {},
   "source": [
    "### Configure the model and start training."
   ]
  },
  {
   "cell_type": "code",
   "execution_count": 175,
   "metadata": {},
   "outputs": [],
   "source": [
    "loss = tf.keras.losses.SparseCategoricalCrossentropy(from_logits=True)\n",
    "optimizer = tf.keras.optimizers.Adam()\n",
    "metric = tf.keras.metrics.SparseCategoricalAccuracy('accuracy')"
   ]
  },
  {
   "cell_type": "code",
   "execution_count": 176,
   "metadata": {},
   "outputs": [],
   "source": [
    "bert_model.compile(optimizer=optimizer, loss=loss, metrics=[metric])"
   ]
  },
  {
   "cell_type": "code",
   "execution_count": 152,
   "metadata": {},
   "outputs": [
    {
     "name": "stdout",
     "output_type": "stream",
     "text": [
      "Model: \"tf_bert_for_token_classification_8\"\n",
      "_________________________________________________________________\n",
      "Layer (type)                 Output Shape              Param #   \n",
      "=================================================================\n",
      "bert (TFBertMainLayer)       multiple                  108310272 \n",
      "_________________________________________________________________\n",
      "dropout_341 (Dropout)        multiple                  0         \n",
      "_________________________________________________________________\n",
      "classifier (Dense)           multiple                  6152      \n",
      "=================================================================\n",
      "Total params: 108,316,424\n",
      "Trainable params: 108,316,424\n",
      "Non-trainable params: 0\n",
      "_________________________________________________________________\n"
     ]
    }
   ],
   "source": [
    "bert_model.summary()"
   ]
  },
  {
   "cell_type": "code",
   "execution_count": 177,
   "metadata": {},
   "outputs": [
    {
     "name": "stdout",
     "output_type": "stream",
     "text": [
      "Fine-tuning BERT on CONLL2003 dataset\n",
      "Train for 5620 steps, validate for 125 steps\n",
      "Epoch 1/2\n",
      "WARNING:tensorflow:Gradients do not exist for variables ['tf_bert_for_token_classification_10/bert/pooler/dense/kernel:0', 'tf_bert_for_token_classification_10/bert/pooler/dense/bias:0'] when minimizing the loss.\n",
      "WARNING:tensorflow:Gradients do not exist for variables ['tf_bert_for_token_classification_10/bert/pooler/dense/kernel:0', 'tf_bert_for_token_classification_10/bert/pooler/dense/bias:0'] when minimizing the loss.\n",
      "5620/5620 [==============================] - 3020s 537ms/step - loss: 1.3598 - accuracy: 0.9098 - val_loss: 1.2989 - val_accuracy: 0.9751\n",
      "Epoch 2/2\n",
      "5620/5620 [==============================] - 3005s 535ms/step - loss: 1.2980 - accuracy: 0.9760 - val_loss: 1.2989 - val_accuracy: 0.9751\n"
     ]
    }
   ],
   "source": [
    "print(\"Fine-tuning BERT on CONLL2003 dataset\")\n",
    "bert_history = bert_model.fit(train_ds, epochs=2, validation_data=val_ds)"
   ]
  },
  {
   "cell_type": "markdown",
   "metadata": {},
   "source": [
    "### Evaluate and save the model."
   ]
  },
  {
   "cell_type": "code",
   "execution_count": 178,
   "metadata": {},
   "outputs": [
    {
     "name": "stdout",
     "output_type": "stream",
     "text": [
      "[[0 0 0 ... 0 0 0]\n",
      " [0 0 0 ... 0 0 0]\n",
      " [2 2 2 ... 0 0 0]\n",
      " ...\n",
      " [0 0 0 ... 0 0 0]\n",
      " [0 1 1 ... 0 0 0]\n",
      " [0 0 1 ... 0 0 0]]\n"
     ]
    }
   ],
   "source": [
    "results_true = test_ds.unbatch()\n",
    "results_true = np.asarray([element[1].numpy() for element in results_true])\n",
    "print(results_true)"
   ]
  },
  {
   "cell_type": "code",
   "execution_count": 180,
   "metadata": {},
   "outputs": [],
   "source": [
    "results = bert_model.predict(test_ds)"
   ]
  },
  {
   "cell_type": "code",
   "execution_count": 181,
   "metadata": {},
   "outputs": [],
   "source": [
    "results_predicted = convert_predictions(results, indices_to_tags)"
   ]
  },
  {
   "cell_type": "code",
   "execution_count": 182,
   "metadata": {},
   "outputs": [
    {
     "name": "stdout",
     "output_type": "stream",
     "text": [
      "[0, 0, 0, 0, 0, 0, 0, 0, 0, 0, 0, 0, 0, 0, 0, 0, 0, 0, 0, 0, 0, 0, 0, 0, 0, 0, 0, 0, 0, 0, 0, 0, 0, 0, 0, 0, 0, 0, 0, 0, 0, 0, 0, 0, 0, 0, 0, 0, 0, 0, 0, 0, 0, 0, 0, 0, 0, 0, 0, 0, 0, 0, 0, 0, 0, 0, 0, 0, 0, 0, 0, 0, 0, 0, 0, 0, 0, 0, 0, 0, 0, 0, 0, 0, 0, 0, 0, 0, 0, 0, 0, 0, 0, 0, 0, 0, 0, 0, 0, 0, 0, 0, 0, 0, 0, 0, 0, 0, 0, 0, 0, 0, 0, 0, 0, 0, 0, 0, 0, 0, 0, 0, 0, 0, 0, 0, 0, 0, 0, 0, 0, 0, 0, 0, 0, 0, 0, 0, 0, 0, 0, 0, 0, 0, 0, 0, 0, 0, 0, 0, 0, 0, 0, 0, 0, 0, 0, 0, 0, 0, 0, 0, 0, 0, 0, 0, 0, 0, 0, 0, 0, 0, 0, 0, 0, 0, 0, 0, 0, 0]\n",
      "[1.0000000e+00 9.3871154e-11 2.1244105e-11 1.4799946e-11 3.2669197e-11\n",
      " 9.4196994e-12 1.1933786e-11 6.1404679e-12]\n",
      "[0 0 0 1 0 0 0 0 0 0 0 0 0 0 0 0 0 0 4 0 0 0 0 0 0 0 0 0 0 0 0 0 0 0 0 0 0\n",
      " 0 0 0 0 0 0 0 0 0 0 0 0 0 0 0 0 0 0 0 0 0 0 0 0 0 0 0 0 0 0 0 0 0 0 0 0 0\n",
      " 0 0 0 0 0 0 0 0 0 0 0 0 0 0 0 0 0 0 0 0 0 0 0 0 0 0 0 0 0 0 0 0 0 0 0 0 0\n",
      " 0 0 0 0 0 0 0 0 0 0 0 0 0 0 0 0 0 0 0 0 0 0 0 0 0 0 0 0 0 0 0 0 0 0 0 0 0\n",
      " 0 0 0 0 0 0 0 0 0 0 0 0 0 0 0 0 0 0 0 0 0 0 0 0 0 0 0 0 0 0 0 0]\n"
     ]
    }
   ],
   "source": [
    "print(results_predicted[9])\n",
    "print(results[9][4])\n",
    "print(results_true[9])"
   ]
  },
  {
   "cell_type": "code",
   "execution_count": 184,
   "metadata": {},
   "outputs": [
    {
     "data": {
      "text/plain": [
       "0.4574973600844773"
      ]
     },
     "execution_count": 184,
     "metadata": {},
     "output_type": "execute_result"
    }
   ],
   "source": [
    "from sklearn.preprocessing import MultiLabelBinarizer\n",
    "from sklearn.metrics import f1_score\n",
    "\n",
    "m = MultiLabelBinarizer().fit(results_true)\n",
    "\n",
    "f1_score(m.transform(results_true),\n",
    "         m.transform(results_predicted), average='weighted')\n",
    "# 1.0"
   ]
  },
  {
   "cell_type": "code",
   "execution_count": null,
   "metadata": {},
   "outputs": [],
   "source": [
    "from sklearn.metrics import f1_score\n",
    "from sklearn.metrics import accuracy_score\n",
    "\n",
    "print(f\"F1 score: {f1_score(results_true, results_predicted)}\")\n",
    "print(f\"Accuracy score: {accuracy_score(results_true, results_predicted)}\")"
   ]
  },
  {
   "cell_type": "code",
   "execution_count": null,
   "metadata": {},
   "outputs": [],
   "source": [
    "from seqeval.metrics import accuracy_score\n",
    "from seqeval.metrics import classification_report\n",
    "from seqeval.metrics import f1_score\n",
    "\n",
    "print(f\"F1 score: {f1_score(results_true, results_predicted)}\")\n",
    "print(f\"Accuracy score: {accuracy_score(results_true, results_predicted)}\")"
   ]
  },
  {
   "cell_type": "code",
   "execution_count": 161,
   "metadata": {},
   "outputs": [],
   "source": [
    "bert_model.save_pretrained('./')\n",
    "bert_model = TFBertForTokenClassification.from_pretrained('./')"
   ]
  },
  {
   "cell_type": "code",
   "execution_count": 138,
   "metadata": {},
   "outputs": [],
   "source": [
    "def annot_confusion_matrix(valid_tags, pred_tags):\n",
    "\n",
    "    \"\"\"\n",
    "    Create an annotated confusion matrix by adding label\n",
    "    annotations and formatting to sklearn's `confusion_matrix`.\n",
    "    \"\"\"\n",
    "\n",
    "    # Create header from unique tags\n",
    "    header = sorted(list(set(valid_tags + pred_tags)))\n",
    "\n",
    "    # Calculate the actual confusion matrix\n",
    "    matrix = confusion_matrix(valid_tags, pred_tags, labels=header)\n",
    "\n",
    "    # Final formatting touches for the string output\n",
    "    mat_formatted = [header[i] + \"\\t\" + str(row) for i, row in enumerate(matrix)]\n",
    "    content = \"\\t\" + \" \".join(header) + \"\\n\" + \"\\n\".join(mat_formatted)\n",
    "\n",
    "    return content\n"
   ]
  },
  {
   "cell_type": "code",
   "execution_count": 162,
   "metadata": {},
   "outputs": [
    {
     "ename": "TypeError",
     "evalue": "unhashable type: 'numpy.ndarray'",
     "output_type": "error",
     "traceback": [
      "\u001b[0;31m---------------------------------------------------------------------------\u001b[0m",
      "\u001b[0;31mTypeError\u001b[0m                                 Traceback (most recent call last)",
      "\u001b[0;32m<ipython-input-162-eac11e050eef>\u001b[0m in \u001b[0;36m<module>\u001b[0;34m\u001b[0m\n\u001b[0;32m----> 1\u001b[0;31m \u001b[0mannot_confusion_matrix\u001b[0m\u001b[0;34m(\u001b[0m\u001b[0mlist\u001b[0m\u001b[0;34m(\u001b[0m\u001b[0mresults_true\u001b[0m\u001b[0;34m)\u001b[0m\u001b[0;34m,\u001b[0m \u001b[0mlist\u001b[0m\u001b[0;34m(\u001b[0m\u001b[0mresults_predicted\u001b[0m\u001b[0;34m)\u001b[0m\u001b[0;34m)\u001b[0m\u001b[0;34m\u001b[0m\u001b[0;34m\u001b[0m\u001b[0m\n\u001b[0m",
      "\u001b[0;32m<ipython-input-138-de34ffc54f11>\u001b[0m in \u001b[0;36mannot_confusion_matrix\u001b[0;34m(valid_tags, pred_tags)\u001b[0m\n\u001b[1;32m      7\u001b[0m \u001b[0;34m\u001b[0m\u001b[0m\n\u001b[1;32m      8\u001b[0m     \u001b[0;31m# Create header from unique tags\u001b[0m\u001b[0;34m\u001b[0m\u001b[0;34m\u001b[0m\u001b[0;34m\u001b[0m\u001b[0m\n\u001b[0;32m----> 9\u001b[0;31m     \u001b[0mheader\u001b[0m \u001b[0;34m=\u001b[0m \u001b[0msorted\u001b[0m\u001b[0;34m(\u001b[0m\u001b[0mlist\u001b[0m\u001b[0;34m(\u001b[0m\u001b[0mset\u001b[0m\u001b[0;34m(\u001b[0m\u001b[0mvalid_tags\u001b[0m \u001b[0;34m+\u001b[0m \u001b[0mpred_tags\u001b[0m\u001b[0;34m)\u001b[0m\u001b[0;34m)\u001b[0m\u001b[0;34m)\u001b[0m\u001b[0;34m\u001b[0m\u001b[0;34m\u001b[0m\u001b[0m\n\u001b[0m\u001b[1;32m     10\u001b[0m \u001b[0;34m\u001b[0m\u001b[0m\n\u001b[1;32m     11\u001b[0m     \u001b[0;31m# Calculate the actual confusion matrix\u001b[0m\u001b[0;34m\u001b[0m\u001b[0;34m\u001b[0m\u001b[0;34m\u001b[0m\u001b[0m\n",
      "\u001b[0;31mTypeError\u001b[0m: unhashable type: 'numpy.ndarray'"
     ]
    }
   ],
   "source": [
    "annot_confusion_matrix(list(results_true), list(results_predicted))"
   ]
  },
  {
   "cell_type": "code",
   "execution_count": null,
   "metadata": {},
   "outputs": [],
   "source": []
  }
 ],
 "metadata": {
  "kernelspec": {
   "display_name": "Python 3",
   "language": "python",
   "name": "python3"
  },
  "language_info": {
   "codemirror_mode": {
    "name": "ipython",
    "version": 3
   },
   "file_extension": ".py",
   "mimetype": "text/x-python",
   "name": "python",
   "nbconvert_exporter": "python",
   "pygments_lexer": "ipython3",
   "version": "3.6.7"
  }
 },
 "nbformat": 4,
 "nbformat_minor": 4
}
